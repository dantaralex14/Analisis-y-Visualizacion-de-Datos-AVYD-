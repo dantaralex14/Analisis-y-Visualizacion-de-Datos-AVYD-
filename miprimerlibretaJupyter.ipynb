{
 "cells": [
  {
   "cell_type": "markdown",
   "metadata": {},
   "source": [
    "### Mi Primer Libreta de Jupyter \n",
    "#### Jesus Alberto Verduzco Ramirez\n",
    "**7 de febrero de 2024** "
   ]
  },
  {
   "cell_type": "markdown",
   "metadata": {},
   "source": [
    "<h3> Introduccion a Python </h3>\n",
    "<p> Python es un lenguaje scrip muy poderoso para el tratamiento de datos por las librerias que contiene \n",
    "La version mas reciente de Python es la $$3.12$$\n",
    "<p>"
   ]
  },
  {
   "cell_type": "code",
   "execution_count": 1,
   "metadata": {},
   "outputs": [
    {
     "name": "stdout",
     "output_type": "stream",
     "text": [
      "Hola mundo\n"
     ]
    }
   ],
   "source": [
    "## Saludar en python ## \n",
    "print(\"Hola mundo\")"
   ]
  },
  {
   "cell_type": "code",
   "execution_count": 2,
   "metadata": {},
   "outputs": [
    {
     "name": "stdout",
     "output_type": "stream",
     "text": [
      "Elemento : 1\n",
      "Elemento : 3\n",
      "Elemento : 5\n"
     ]
    }
   ],
   "source": [
    "\"\"\"\"\n",
    "Ejemplo de script usando estructuras repetitivas.\n",
    "nos permiten repetir un conjunto de instrucciones un numero determinado de veces\n",
    "\"\"\"\n",
    "for i in range(1, 6, 2):\n",
    "    print(\"Elemento : {}\".format(i))"
   ]
  },
  {
   "cell_type": "code",
   "execution_count": 3,
   "metadata": {},
   "outputs": [
    {
     "name": "stdout",
     "output_type": "stream",
     "text": [
      "Tu edad es 18\n",
      "Eres un adulto...\n"
     ]
    }
   ],
   "source": [
    "##Ingresar datos\n",
    "##Siempre leemos valores desde el teclado en tipo string\n",
    "edad = int(input(\"Ingresa tu edad\"))\n",
    "print(\"Tu edad es\",edad)\n",
    "if (edad >= 0 and edad <3):\n",
    "   print(\"Eres un bebe...\")\n",
    "elif (edad >= 3 and edad <12):\n",
    "     print(\"Eres un niñe...\")\n",
    "elif (edad >= 12 and edad <18):\n",
    "    print(\"Eres un adolescente...\")\n",
    "else:\n",
    "    print(\"Eres un adulto...\")    "
   ]
  },
  {
   "cell_type": "code",
   "execution_count": 1,
   "metadata": {},
   "outputs": [
    {
     "name": "stdout",
     "output_type": "stream",
     "text": [
      "-- Calculadora del IMC --\n",
      "Tu IMC es:23.806228373702425\n",
      "Tienes peso saludable...\n"
     ]
    }
   ],
   "source": [
    "\"\"\"\"\n",
    "Este script permite calcular el indice de masa corporal(IMC) de una persona.\n",
    "El IMC relaciona 2 parametros que son el peso en kg y la estatura en metros\n",
    "Es un indicador del estado de la masa corporal,tiene varias clasificaciones\n",
    "Bajo peso,peso normal, sobrepeso, obesidad I, obesidad II, obesidad morbida\n",
    "\"\"\"\n",
    "print(\"-- Calculadora del IMC --\")\n",
    "peso = float(input(\"Ingresa tu peso en kg\"))\n",
    "estatura = float(input(\"Ingresa tu estatura en metros\"))\n",
    "\n",
    "#Aplicamos formula imc = peso / estatura **2\n",
    "imc = peso / estatura**2\n",
    "print(\"Tu IMC es:{}\".format(imc))\n",
    "\n",
    "#Determinar la categoria de tu imc\n",
    "if(imc < 18.5):\n",
    "  print(\"Tienes bajo peso...\")\n",
    "elif (imc >= 18.5 and imc <= 24.9):\n",
    "  print(\"Tienes peso saludable...\")\n",
    "elif (imc >= 25 and imc <= 29.9):\n",
    "  print(\"Tienes sobre´peso...Ten cuidado\")\n",
    "elif (imc >= 30):\n",
    "  print(\"Tienes obesidad...Acude con tu medico\")\n"
   ]
  },
  {
   "cell_type": "code",
   "execution_count": 2,
   "metadata": {},
   "outputs": [
    {
     "name": "stdout",
     "output_type": "stream",
     "text": [
      "Holis soy una funcion sin parametros y sin regreso de valores\n"
     ]
    }
   ],
   "source": [
    "#### Funciones\n",
    "#Las funciones permiten organizar el código en pequeñas fracciones que realizan tareas especificas.\n",
    "#En python una funcion inicia con la palabras reservada \"def\" mas el identifcador de la funcion\n",
    "#y una lista de parametros\n",
    "\n",
    "#Funcion sin parametros y realiza una accion\n",
    "def printMensaje():\n",
    "    print(\"Holis soy una funcion sin parametros y sin regreso de valores\")\n",
    "\n",
    "#Invocar a la funcion\n",
    "printMensaje()\n"
   ]
  },
  {
   "cell_type": "code",
   "execution_count": 3,
   "metadata": {},
   "outputs": [
    {
     "name": "stdout",
     "output_type": "stream",
     "text": [
      "holis soy una funcion sin parametros y sin regreso de valores\n"
     ]
    }
   ],
   "source": [
    "def printMensaje(msg):\n",
    "    print(msg)\n",
    "\n",
    "#Invocar a la funcion\n",
    "printMensaje(\"holis soy una funcion sin parametros y sin regreso de valores\")"
   ]
  },
  {
   "cell_type": "code",
   "execution_count": 4,
   "metadata": {},
   "outputs": [
    {
     "name": "stdout",
     "output_type": "stream",
     "text": [
      "La suma es :5\n",
      "La resta es :1\n"
     ]
    }
   ],
   "source": [
    "def sumaEnteros(num1,num2):\n",
    "    return num1+num2\n",
    "\n",
    "def restaEnteros(num1,num2):\n",
    "    return num1-num2\n",
    "\n",
    "#Invocar a la funcion\n",
    "def main():\n",
    "  print(\"La suma es :{}\".format(sumaEnteros(2,3)))\n",
    "  print(\"La resta es :{}\".format(restaEnteros(3,2)))\n",
    "\n",
    "if __name__==\"__main__\":\n",
    "   main()"
   ]
  },
  {
   "cell_type": "code",
   "execution_count": 5,
   "metadata": {},
   "outputs": [
    {
     "name": "stdout",
     "output_type": "stream",
     "text": [
      "[1, 1.57, 'Holas', False, []]\n"
     ]
    }
   ],
   "source": [
    "lista = []\n",
    "listaDos = []\n",
    "lista.append(1)\n",
    "lista.append(1.57)\n",
    "lista.append(\"Holas\")\n",
    "lista.append(False)\n",
    "lista.append(listaDos)\n",
    "print(lista)"
   ]
  },
  {
   "cell_type": "code",
   "execution_count": 1,
   "metadata": {},
   "outputs": [
    {
     "name": "stdout",
     "output_type": "stream",
     "text": [
      "--Identificar Triangulo por la propiedad de la magnitud de los lados\n",
      "Los segmentos de recta: 5, 5, 7 forman un triangulo.\n",
      "los segmentos de recta: 5, 5, 7 el tipo de triangulo es isosceles\n"
     ]
    }
   ],
   "source": [
    "print(\"--Identificar Triangulo por la propiedad de la magnitud de los lados\")\n",
    "l1 = int(input(\"Ingrese lado 1: \"))\n",
    "l2 = int(input(\"Ingrese lado 2: \"))\n",
    "l3 = int(input(\"Ingrese lado 3: \"))\n",
    "#Validar si es un triangulo#\n",
    "if (l1 + l2) > l3 and (l2 + l3) > l1 and (l3 + l1) > l2:\n",
    "    print(\"Los segmentos de recta: {}, {}, {} forman un triangulo.\".format(l1, l2, l3))\n",
    "    #Identificar el tipo de triangulo de acuerdo a sus lados\n",
    "    #Todos iguales: equilatero,dos iguales:isosceles y todos distintos:escaleno\n",
    "    if l1 == l2 == l3:\n",
    "        print(\"los segmentos de recta: {}, {}, {} el tipo de triangulo es equilatero\".format(l1, l2, l3))\n",
    "    elif l1 == l2 or l1 == l3 or l2 == l3:\n",
    "        print(\"los segmentos de recta: {}, {}, {} el tipo de triangulo es isosceles\".format(l1, l2, l3))\n",
    "    else:\n",
    "        print(\"los segmentos de recta: {}, {}, {} el tipo de triangulo es escaleno\".format(l1, l2, l3))\n",
    "else:\n",
    "    print(\"Los segmentos de recta: {}, {}, {} No forman un triangulo\".format(l1, l2, l3))\n"
   ]
  }
 ],
 "metadata": {
  "kernelspec": {
   "display_name": "Python 3",
   "language": "python",
   "name": "python3"
  },
  "language_info": {
   "codemirror_mode": {
    "name": "ipython",
    "version": 3
   },
   "file_extension": ".py",
   "mimetype": "text/x-python",
   "name": "python",
   "nbconvert_exporter": "python",
   "pygments_lexer": "ipython3",
   "version": "3.11.5"
  }
 },
 "nbformat": 4,
 "nbformat_minor": 2
}
