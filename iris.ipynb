{
 "cells": [
  {
   "cell_type": "code",
   "execution_count": 1,
   "metadata": {},
   "outputs": [],
   "source": [
    "#Importar librerias\n",
    "import sklearn.datasets as ds \n",
    "import numpy as np \n",
    "import pandas as pd \n",
    "import matplotlib.pyplot as plt "
   ]
  },
  {
   "cell_type": "markdown",
   "metadata": {},
   "source": [
    "#### ***The Iris Dataset**"
   ]
  },
  {
   "cell_type": "code",
   "execution_count": 2,
   "metadata": {},
   "outputs": [],
   "source": [
    "# Cargamos el dataset iris desde sklearn\n",
    "iris = ds.load_iris()"
   ]
  },
  {
   "cell_type": "code",
   "execution_count": null,
   "metadata": {},
   "outputs": [],
   "source": [
    "print(\"iris\")"
   ]
  },
  {
   "cell_type": "markdown",
   "metadata": {},
   "source": [
    "## Separamos los registros del Dataset en Variables ##"
   ]
  },
  {
   "cell_type": "code",
   "execution_count": null,
   "metadata": {},
   "outputs": [],
   "source": [
    "# Separamos los datos contenidos en el dataset (diccionario)\n",
    "# Guardamos los datos del dataset en la variable iris_x\n",
    "iris_x = iris['data']\n",
    "# clases de flores, 0=setosa, 1=versicolor\n",
    "iris_y = \n",
    "iris_x_labels = \n",
    "iris_y_labels ="
   ]
  },
  {
   "cell_type": "code",
   "execution_count": null,
   "metadata": {},
   "outputs": [],
   "source": [
    "#Comprobar los datos\n",
    "print(iris_x)\n",
    "print(iris_y)\n",
    "print(iris_x_labels)\n",
    "print(iris_y_labels)\n"
   ]
  },
  {
   "cell_type": "markdown",
   "metadata": {},
   "source": [
    "## Separamos en Tres Variables Los Tres Tipos de Flores ##\n"
   ]
  },
  {
   "cell_type": "code",
   "execution_count": null,
   "metadata": {},
   "outputs": [],
   "source": [
    "# Separamos en Tres variables los tres tipos de flores de acuerdo a su categoria\n",
    "\n",
    "\n",
    "setosa = np.where(iris_y == 0)\n",
    "versicolor = np.where(iris_y == 1)\n",
    "viriginica = np.where(iris_y == 2)\n",
    "# Imprimir las variables\n",
    "print(\"Setosa: \", setosa)\n",
    "print(\"Versicolor: \",versicolor)\n",
    "print(\"Vriginica: \", viriginica)"
   ]
  },
  {
   "cell_type": "code",
   "execution_count": null,
   "metadata": {},
   "outputs": [],
   "source": [
    "# El metodo unique de numpy\n",
    "# Encuentra los valores unicos y cuenta su frecuencia en un array\n",
    "# Como salida nos entrega dos arrays\n",
    "(unicos, cuantos) = np.unique(iris_y, return_counts=True)\n",
    "print(unicos)\n",
    "print(cuantos)"
   ]
  },
  {
   "cell_type": "markdown",
   "metadata": {},
   "source": [
    "## Mostrar las proporciones en una grafica circular o de pastel ## "
   ]
  },
  {
   "cell_type": "code",
   "execution_count": null,
   "metadata": {},
   "outputs": [],
   "source": [
    "# Grafica circular o de pastel para mostrar las proporciones de datos\n",
    "# Describir en una grafica de pie para saber cuantas flores hay de cada tipo\n",
    "plt.figure(figsize=(6,6))\n",
    "#construir la grafica\n",
    "plt.pie(cuantos, labels=iris_y_labels, autopct=\"%1.1f%%\", shadow=True, explode =(0.05, 0, 0))"
   ]
  },
  {
   "cell_type": "markdown",
   "metadata": {},
   "source": [
    "## Mostrar los mismos datos en un grafica Donut ##"
   ]
  },
  {
   "cell_type": "code",
   "execution_count": null,
   "metadata": {},
   "outputs": [],
   "source": [
    "\n",
    "plt.figure(figsize=(6,6))\n",
    "plt.pie(cuantos, labels=iris_y_labels, autopct=\"%1.1f%%\", textprops={'fontsize':10},wedgeprops={'edgecolor':'#fffffff'})\n",
    "circle = plt.Circle(xy=(0,0), radius=0.5, color='red')\n",
    "plt.gca().add_artist(circle)\n",
    "plt.title('Class Distribution of Iris Data Points', size=14)\n",
    "plt.show"
   ]
  },
  {
   "cell_type": "markdown",
   "metadata": {},
   "source": [
    "## Grafica de burbuja o puntos ## "
   ]
  },
  {
   "cell_type": "code",
   "execution_count": null,
   "metadata": {},
   "outputs": [],
   "source": [
    "from matplotlib.ticker import FuncFormatter\n",
    "\n",
    "formatter = FuncFormatter(lambda v, _: iris_y_labels[v])\n",
    "\n",
    "#Ejemplo de funcion lambda\n",
    "suma = lambda x,y: x+y\n",
    "\n",
    "# esta seria la equivalencia de la funcion lambda\n",
    "def suma(x,y):\n",
    "    return x+y"
   ]
  },
  {
   "cell_type": "code",
   "execution_count": null,
   "metadata": {},
   "outputs": [],
   "source": [
    "#Creamos una figura\n",
    "plt.figure(figsize=(8,6))\n",
    "# valor de longitud de pétalos\n",
    "plt.scatter(iris_x[:,2], iris_x[:, 3], color= iris_y, edgecolors= 'black')\n",
    "#Le agregamos a la grafica las etiquedas contenidas en iris_x_labels\n",
    "plt.xlabel(iris_x_labels[2])\n",
    "plt.ylabel(iris_y_labels[3])\n",
    "plt.title('petal width/Height by Species', size=14)\n",
    "plt.colorbar(ticks=[0,1,2],format=formatter)\n",
    "plt.show()"
   ]
  },
  {
   "cell_type": "code",
   "execution_count": null,
   "metadata": {},
   "outputs": [],
   "source": [
    "# Reto\n",
    "# Crear una grafica similar de burbujas o puntos tomando los parametros\n",
    "# longitud y anchura de los sepalos contenidos en el dataset irs_x\n",
    "\n",
    "from matplotlib.colors import ListedColormap\n",
    "#Creamos una figura\n",
    "plt.figure(figsize=(8,6))\n",
    "colors=['blue','red','purple']\n",
    "#creamos un mapa de colores\n",
    "color=ListedColormap(colors)\n",
    "plt.scatter(iris_x[:,0], iris_x[:,1] c= iris_y, edgecolors=)"
   ]
  },
  {
   "cell_type": "markdown",
   "metadata": {},
   "source": [
    "write in at least 200 word in English your personal reflection about the matplotlib subject.\n",
    "\n",
    "Extended Report: Exploring Iris Dataset with Matplotlib\n",
    "In this project, I delved into the realm of data visualization using the Matplotlib library, employing the renowned Iris dataset as my canvas. The Iris dataset, a cornerstone of machine learning and data mining, encompasses the measurements of three distinct Iris flower species: Iris setosa, Iris versicolor, and Iris virginica. Each flower is characterized by four attributes: sepal length, sepal width, petal length, and petal width.\n",
    "Armed with this dataset, I embarked on a journey to uncover the intricacies of each flower species through the power of Matplotlib. I meticulously dissected the dataset, extracting the relevant features and assigning them to separate variables. This meticulous preparation laid the foundation for the subsequent visualization phase.\n",
    "In the domain of data visualization, Matplotlib reigns supreme, offering a plethora of tools to transform raw data into captivating graphical representations. I eagerly embraced Matplotlib's capabilities, crafting a series of insightful visualizations that illuminated the unique characteristics of each Iris species.\n",
    "Circular charts, with their vibrant hues, took center stage, showcasing the distribution of sepal and petal dimensions across the three flower species. Each slice of the pie represented a distinct range of values, revealing the inherent variability within each species.\n",
    "Bar charts, with their towering bars, emerged as another powerful tool, contrasting the average measurements of each flower species. The juxtaposition of bars vividly portrayed the morphological distinctions between the three Iris varieties.\n",
    "Scatter plots, with their constellation of data points, unveiled the intricate relationships between the various flower attributes. Each point, meticulously positioned on the Cartesian plane, represented a unique flower specimen, revealing patterns and trends that would otherwise remain hidden.\n",
    "Through these diverse visualizations, I gained a deeper understanding of the Iris dataset, uncovering the subtle nuances that distinguish each flower species. Matplotlib, with its arsenal of graphical tools, proved to be an invaluable companion in this exploratory journey.\n",
    "As I conclude this project, I am filled with a sense of accomplishment and a renewed appreciation for the power of data visualization. Matplotlib, with its versatility and elegance, has become an indispensable tool in my data exploration toolkit. I eagerly anticipate future opportunities to harness its capabilities to unravel the mysteries hidden within complex datasets."
   ]
  }
 ],
 "metadata": {
  "kernelspec": {
   "display_name": "Python 3",
   "language": "python",
   "name": "python3"
  },
  "language_info": {
   "codemirror_mode": {
    "name": "ipython",
    "version": 3
   },
   "file_extension": ".py",
   "mimetype": "text/x-python",
   "name": "python",
   "nbconvert_exporter": "python",
   "pygments_lexer": "ipython3",
   "version": "3.11.5"
  }
 },
 "nbformat": 4,
 "nbformat_minor": 2
}
